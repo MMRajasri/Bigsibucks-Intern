{
  "nbformat": 4,
  "nbformat_minor": 0,
  "metadata": {
    "colab": {
      "provenance": []
    },
    "kernelspec": {
      "name": "python3",
      "display_name": "Python 3"
    },
    "language_info": {
      "name": "python"
    }
  },
  "cells": [
    {
      "cell_type": "code",
      "source": [
        "import numpy as np\n",
        "import tensorflow as tf\n",
        "from tensorflow.keras.datasets import imdb\n",
        "from tensorflow.keras.preprocessing.sequence import pad_sequences\n",
        "from tensorflow.keras.models import Sequential\n",
        "from tensorflow.keras.layers import Embedding, Conv1D, GlobalMaxPooling1D, Dense, Dropout\n",
        "\n",
        "# Load the IMDB dataset\n",
        "max_words = 10000\n",
        "maxlen = 100\n",
        "(x_train, y_train), (x_test, y_test) = imdb.load_data(num_words=max_words)\n",
        "\n",
        "# Padding\n",
        "x_train = pad_sequences(x_train, maxlen=maxlen)\n",
        "x_test = pad_sequences(x_test, maxlen=maxlen)\n",
        "\n",
        "# Model\n",
        "embedding_dim = 50\n",
        "model = Sequential()\n",
        "model.add(Embedding(max_words, embedding_dim, input_length=maxlen))\n",
        "model.add(Conv1D(128, 5, activation='relu'))\n",
        "model.add(GlobalMaxPooling1D())\n",
        "model.add(Dense(64, activation='relu'))\n",
        "model.add(Dropout(0.5))\n",
        "model.add(Dense(1, activation='sigmoid'))\n",
        "\n",
        "model.compile(optimizer='adam', loss='binary_crossentropy', metrics=['accuracy'])\n",
        "\n",
        "# Training\n",
        "model.fit(x_train, y_train, epochs=3, batch_size=32, validation_data=(x_test, y_test))\n",
        "\n",
        "# Evaluation\n",
        "loss, accuracy = model.evaluate(x_test, y_test)\n",
        "print(\"Test accuracy:\", accuracy)\n"
      ],
      "metadata": {
        "colab": {
          "base_uri": "https://localhost:8080/"
        },
        "id": "FKpJlWUt1aNt",
        "outputId": "13850b3e-c2dd-42a9-bcc9-f60c792f7701"
      },
      "execution_count": null,
      "outputs": [
        {
          "output_type": "stream",
          "name": "stdout",
          "text": [
            "Downloading data from https://storage.googleapis.com/tensorflow/tf-keras-datasets/imdb.npz\n",
            "17464789/17464789 [==============================] - 0s 0us/step\n",
            "Epoch 1/3\n",
            "782/782 [==============================] - 26s 32ms/step - loss: 0.4936 - accuracy: 0.7432 - val_loss: 0.3739 - val_accuracy: 0.8328\n",
            "Epoch 2/3\n",
            "782/782 [==============================] - 24s 31ms/step - loss: 0.2786 - accuracy: 0.8926 - val_loss: 0.3304 - val_accuracy: 0.8553\n",
            "Epoch 3/3\n",
            "782/782 [==============================] - 29s 37ms/step - loss: 0.1524 - accuracy: 0.9479 - val_loss: 0.3834 - val_accuracy: 0.8519\n",
            "782/782 [==============================] - 6s 7ms/step - loss: 0.3834 - accuracy: 0.8519\n",
            "Test accuracy: 0.8519200086593628\n"
          ]
        }
      ]
    },
    {
      "cell_type": "code",
      "source": [],
      "metadata": {
        "id": "8GU_QRP82tFp"
      },
      "execution_count": null,
      "outputs": []
    }
  ]
}